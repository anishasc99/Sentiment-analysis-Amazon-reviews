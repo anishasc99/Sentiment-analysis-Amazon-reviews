{
 "cells": [
  {
   "cell_type": "markdown",
   "metadata": {},
   "source": [
    "## Sentiment analysis on Amazon reviews using Spacy"
   ]
  },
  {
   "cell_type": "code",
   "execution_count": 12,
   "metadata": {},
   "outputs": [],
   "source": [
    "import pandas as pd\n",
    "import spacy\n",
    "import random\n",
    "import matplotlib.pyplot  as plt\n",
    "from sklearn.utils import resample\n",
    "from sklearn.model_selection import train_test_split\n",
    "from spacy.util import minibatch, compounding\n"
   ]
  },
  {
   "cell_type": "code",
   "execution_count": 17,
   "metadata": {},
   "outputs": [
    {
     "data": {
      "text/plain": [
       "['tagger', 'parser', 'ner']"
      ]
     },
     "execution_count": 17,
     "metadata": {},
     "output_type": "execute_result"
    }
   ],
   "source": [
    "nlp=spacy.load(\"en_core_web_sm\")\n",
    "nlp.pipe_names"
   ]
  },
  {
   "cell_type": "code",
   "execution_count": 18,
   "metadata": {},
   "outputs": [
    {
     "data": {
      "text/plain": [
       "['tagger', 'parser', 'ner', 'textcat']"
      ]
     },
     "execution_count": 18,
     "metadata": {},
     "output_type": "execute_result"
    }
   ],
   "source": [
    "textcat=nlp.create_pipe( \"textcat\", config={\"exclusive_classes\": True, \"architecture\": \"simple_cnn\"})\n",
    "nlp.add_pipe(textcat, last=True)\n",
    "nlp.pipe_names"
   ]
  },
  {
   "cell_type": "code",
   "execution_count": 19,
   "metadata": {},
   "outputs": [
    {
     "data": {
      "text/plain": [
       "1"
      ]
     },
     "execution_count": 19,
     "metadata": {},
     "output_type": "execute_result"
    }
   ],
   "source": [
    "textcat.add_label(\"POSITIVE\")\n",
    "textcat.add_label(\"NEGATIVE\")"
   ]
  },
  {
   "cell_type": "markdown",
   "metadata": {},
   "source": [
    "### Load amazon reviews scraped using Scrapy tool "
   ]
  },
  {
   "cell_type": "code",
   "execution_count": 20,
   "metadata": {},
   "outputs": [
    {
     "data": {
      "text/html": [
       "<div>\n",
       "<style scoped>\n",
       "    .dataframe tbody tr th:only-of-type {\n",
       "        vertical-align: middle;\n",
       "    }\n",
       "\n",
       "    .dataframe tbody tr th {\n",
       "        vertical-align: top;\n",
       "    }\n",
       "\n",
       "    .dataframe thead th {\n",
       "        text-align: right;\n",
       "    }\n",
       "</style>\n",
       "<table border=\"1\" class=\"dataframe\">\n",
       "  <thead>\n",
       "    <tr style=\"text-align: right;\">\n",
       "      <th></th>\n",
       "      <th>stars</th>\n",
       "      <th>comment</th>\n",
       "    </tr>\n",
       "  </thead>\n",
       "  <tbody>\n",
       "    <tr>\n",
       "      <th>0</th>\n",
       "      <td>1.0 out of 5 stars</td>\n",
       "      <td>\\n\\n\\n\\n\\n\\n\\n\\n\\n\\n  \\n  \\n    \\n  The phone ...</td>\n",
       "    </tr>\n",
       "    <tr>\n",
       "      <th>1</th>\n",
       "      <td>1.0 out of 5 stars</td>\n",
       "      <td>\\n\\n\\n\\n\\n\\n\\n\\n\\n\\n  \\n  \\n    \\n  Not good w...</td>\n",
       "    </tr>\n",
       "    <tr>\n",
       "      <th>2</th>\n",
       "      <td>5.0 out of 5 stars</td>\n",
       "      <td>\\n\\n\\n\\n\\n\\n\\n\\n\\n\\n  \\n  \\n    \\n  This phone...</td>\n",
       "    </tr>\n",
       "    <tr>\n",
       "      <th>3</th>\n",
       "      <td>1.0 out of 5 stars</td>\n",
       "      <td>\\n\\n\\n\\n\\n\\n\\n\\n\\n\\n  \\n  \\n    \\n  Pathetic A...</td>\n",
       "    </tr>\n",
       "    <tr>\n",
       "      <th>4</th>\n",
       "      <td>1.0 out of 5 stars</td>\n",
       "      <td>\\n\\n\\n\\n\\n\\n\\n\\n\\n\\n  \\n  \\n    \\n  I found th...</td>\n",
       "    </tr>\n",
       "  </tbody>\n",
       "</table>\n",
       "</div>"
      ],
      "text/plain": [
       "                stars                                            comment\n",
       "0  1.0 out of 5 stars  \\n\\n\\n\\n\\n\\n\\n\\n\\n\\n  \\n  \\n    \\n  The phone ...\n",
       "1  1.0 out of 5 stars  \\n\\n\\n\\n\\n\\n\\n\\n\\n\\n  \\n  \\n    \\n  Not good w...\n",
       "2  5.0 out of 5 stars  \\n\\n\\n\\n\\n\\n\\n\\n\\n\\n  \\n  \\n    \\n  This phone...\n",
       "3  1.0 out of 5 stars  \\n\\n\\n\\n\\n\\n\\n\\n\\n\\n  \\n  \\n    \\n  Pathetic A...\n",
       "4  1.0 out of 5 stars  \\n\\n\\n\\n\\n\\n\\n\\n\\n\\n  \\n  \\n    \\n  I found th..."
      ]
     },
     "execution_count": 20,
     "metadata": {},
     "output_type": "execute_result"
    }
   ],
   "source": [
    "df = pd.read_csv(\"reviews2.csv\")\n",
    "df.head()"
   ]
  },
  {
   "cell_type": "markdown",
   "metadata": {},
   "source": [
    "### Visualizing the data (notice the class imbalance) "
   ]
  },
  {
   "cell_type": "code",
   "execution_count": 21,
   "metadata": {},
   "outputs": [
    {
     "data": {
      "image/png": "[encoded data removed]",
      "text/plain": [
       "<Figure size 432x288 with 1 Axes>"
      ]
     },
     "metadata": {
      "needs_background": "light"
     },
     "output_type": "display_data"
    }
   ],
   "source": [
    "summarised_results = df[\"stars\"].value_counts()\n",
    "plt.bar(summarised_results.keys(), summarised_results.values)\n",
    "plt.show()"
   ]
  },
  {
   "cell_type": "markdown",
   "metadata": {},
   "source": [
    "### Make the data binary classification problem "
   ]
  },
  {
   "cell_type": "code",
   "execution_count": 22,
   "metadata": {},
   "outputs": [
    {
     "name": "stdout",
     "output_type": "stream",
     "text": [
      "5.0 out of 5 stars    1947\n",
      "4.0 out of 5 stars     322\n",
      "1.0 out of 5 stars     244\n",
      "3.0 out of 5 stars     106\n",
      "2.0 out of 5 stars      51\n",
      "Name: stars, dtype: int64\n"
     ]
    },
    {
     "data": {
      "text/plain": [
       "1    2375\n",
       "0     295\n",
       "Name: stars, dtype: int64"
      ]
     },
     "execution_count": 22,
     "metadata": {},
     "output_type": "execute_result"
    }
   ],
   "source": [
    "\n",
    "print(df['stars'].value_counts())\n",
    "df.loc[(df.stars == '1.0 out of 5 stars') , 'stars'] = 0\n",
    "df.loc[(df.stars == '2.0 out of 5 stars') , 'stars'] = 0\n",
    "df.loc[(df.stars == '3.0 out of 5 stars' ), 'stars' ]=1\n",
    "df.loc[(df.stars == '4.0 out of 5 stars' ), 'stars' ]=1\n",
    "df.loc[(df.stars == '5.0 out of 5 stars' ), 'stars' ]=1\n",
    "df['stars'].value_counts()"
   ]
  },
  {
   "cell_type": "markdown",
   "metadata": {},
   "source": [
    "### Solving class imbalance problem using downsampling "
   ]
  },
  {
   "cell_type": "code",
   "execution_count": 23,
   "metadata": {},
   "outputs": [
    {
     "data": {
      "text/plain": [
       "1    300\n",
       "0    295\n",
       "Name: stars, dtype: int64"
      ]
     },
     "execution_count": 23,
     "metadata": {},
     "output_type": "execute_result"
    }
   ],
   "source": [
    "df_majority = df[df.stars==1]\n",
    "df_minority = df[df.stars==0]\n",
    "df_majority_downsampled = resample(df_majority, \n",
    "                                 replace=False,    \n",
    "                                 n_samples=300,     \n",
    "                                 random_state=123) \n",
    " \n",
    "\n",
    "df = pd.concat([df_majority_downsampled, df_minority])\n",
    " \n",
    "\n",
    "df.stars.value_counts()"
   ]
  },
  {
   "cell_type": "markdown",
   "metadata": {},
   "source": [
    "### Data after downsampling and binary classification "
   ]
  },
  {
   "cell_type": "code",
   "execution_count": 24,
   "metadata": {},
   "outputs": [
    {
     "data": {
      "image/png": "[encoded data removed]",
      "text/plain": [
       "<Figure size 432x288 with 1 Axes>"
      ]
     },
     "metadata": {
      "needs_background": "light"
     },
     "output_type": "display_data"
    }
   ],
   "source": [
    "summarised_results = df[\"stars\"].value_counts()\n",
    "plt.bar(summarised_results.keys(), summarised_results.values)\n",
    "plt.show()"
   ]
  },
  {
   "cell_type": "code",
   "execution_count": 25,
   "metadata": {},
   "outputs": [],
   "source": [
    "df['tuples'] = df.apply(lambda row: (row['comment'],row['stars']), axis=1)\n",
    "train =df['tuples'].tolist()"
   ]
  },
  {
   "cell_type": "markdown",
   "metadata": {},
   "source": [
    "### Split dataset into train and test "
   ]
  },
  {
   "cell_type": "code",
   "execution_count": 26,
   "metadata": {},
   "outputs": [
    {
     "name": "stdout",
     "output_type": "stream",
     "text": [
      "# of examples in train dataset:  476\n",
      "# of positive examples in train dataset:  231 48.529411764705884\n",
      "# of negative examples in train dataset:  245 51.470588235294116\n",
      "# of examples in test dataset:  119\n",
      "# of positive examples in test dataset:  69 57.983193277310924\n",
      "# of negative examples in test dataset:  50 42.016806722689076\n"
     ]
    }
   ],
   "source": [
    "def load_data(limit=0, split=0.8):\n",
    "    train_data=train\n",
    "    # Shuffle the data\n",
    "    #random.shuffle(train_data)\n",
    "    texts, labels = zip(*train_data)\n",
    "    # get the categories for each review\n",
    "    cats = [{\"POSITIVE\": bool(y), \"NEGATIVE\": not bool(y)} for y in labels]\n",
    "    # Splitting the training and evaluation data\n",
    "    #split = int(len(train_data) * split)\n",
    "    #return (texts[:split], cats[:split]), (texts[split:], cats[split:])\n",
    "    X_train, X_test, y_train, y_test  = train_test_split(texts, cats, test_size=1-split, random_state=42)\n",
    "    return (X_train,y_train ), (X_test, y_test )\n",
    "\n",
    "n_texts=595\n",
    "\n",
    "# Calling the load_data() function \n",
    "(train_texts, train_cats), (dev_texts, dev_cats) = load_data(limit=n_texts)\n",
    "\n",
    "# Processing the final format of training data\n",
    "train_data = list(zip(train_texts,[{'cats': cats} for cats in train_cats]))\n",
    "\n",
    "#print(train_cats)\n",
    "p = 0\n",
    "n=0\n",
    "for i in range (len(train_cats)):\n",
    "    if train_cats[i]['POSITIVE'] == True:\n",
    "        p+=1\n",
    "    else:\n",
    "        n+=1\n",
    "print(\"# of examples in train dataset: \", len(train_cats))\n",
    "print(\"# of positive examples in train dataset: \", p, p*100/len(train_cats))\n",
    "print(\"# of negative examples in train dataset: \", n, n*100/len(train_cats))\n",
    "p = 0\n",
    "n=0\n",
    "for i in range (len(dev_cats)):\n",
    "    if dev_cats[i]['POSITIVE'] == True:\n",
    "        p+=1\n",
    "    else:\n",
    "        n+=1\n",
    "print(\"# of examples in test dataset: \", len(dev_cats))\n",
    "print(\"# of positive examples in test dataset: \", p, p*100/len(dev_cats))\n",
    "print(\"# of negative examples in test dataset: \", n, n*100/len(dev_cats))\n"
   ]
  },
  {
   "cell_type": "code",
   "execution_count": 27,
   "metadata": {},
   "outputs": [],
   "source": [
    "def evaluate(tokenizer, textcat, texts, cats):\n",
    "    docs = (tokenizer(text) for text in texts)\n",
    "    tp = 0.0  # True positives\n",
    "    fp = 1e-8  # False positives\n",
    "    fn = 1e-8  # False negatives\n",
    "    tn = 0.0  # True negatives\n",
    "    for i, doc in enumerate(textcat.pipe(docs)):\n",
    "        gold = cats[i]\n",
    "        for label, score in doc.cats.items():\n",
    "            if label not in gold:\n",
    "                continue\n",
    "            if label == \"NEGATIVE\":\n",
    "                continue\n",
    "            if score >= 0.5 and gold[label] >= 0.5:\n",
    "                tp += 1.0\n",
    "            elif score >= 0.5 and gold[label] < 0.5:\n",
    "                fp += 1.0\n",
    "            elif score < 0.5 and gold[label] < 0.5:\n",
    "                tn += 1\n",
    "            elif score < 0.5 and gold[label] >= 0.5:\n",
    "                fn += 1\n",
    "    precision = tp / (tp + fp)\n",
    "    recall = tp / (tp + fn)\n",
    "    if (precision + recall) == 0:\n",
    "        f_score = 0.0\n",
    "    else:\n",
    "        f_score = 2 * (precision * recall) / (precision + recall)\n",
    "    return {\"textcat_p\": precision, \"textcat_r\": recall, \"textcat_f\": f_score}\n",
    "\n",
    "\n",
    "#(\"Number of training iterations\", \"n\", int))\n",
    "n_iter=10"
   ]
  },
  {
   "cell_type": "markdown",
   "metadata": {},
   "source": [
    "### Training model using Spacy "
   ]
  },
  {
   "cell_type": "code",
   "execution_count": 28,
   "metadata": {},
   "outputs": [
    {
     "name": "stdout",
     "output_type": "stream",
     "text": [
      "Training the model...\n",
      "LOSS \t  P  \t  R  \t  F  \n",
      "2.938\t0.912\t0.754\t0.825\n",
      "1.326\t0.869\t0.768\t0.815\n",
      "0.540\t0.885\t0.783\t0.831\n",
      "0.264\t0.885\t0.783\t0.831\n",
      "0.236\t0.879\t0.841\t0.859\n",
      "0.194\t0.881\t0.855\t0.868\n",
      "0.164\t0.873\t0.797\t0.833\n",
      "0.081\t0.873\t0.797\t0.833\n",
      "0.200\t0.817\t0.841\t0.829\n",
      "0.096\t0.889\t0.812\t0.848\n"
     ]
    }
   ],
   "source": [
    "other_pipes = [pipe for pipe in nlp.pipe_names if pipe != 'textcat']\n",
    "with nlp.disable_pipes(*other_pipes):  # only train textcat\n",
    "    optimizer = nlp.begin_training()\n",
    "\n",
    "    print(\"Training the model...\")\n",
    "    print('{:^5}\\t{:^5}\\t{:^5}\\t{:^5}'.format('LOSS', 'P', 'R', 'F'))\n",
    "\n",
    "    # Performing training\n",
    "    for i in range(n_iter):\n",
    "        losses = {}\n",
    "        batches = minibatch(train_data, size=compounding(4., 32., 1.001))\n",
    "        for batch in batches:\n",
    "            texts, annotations = zip(*batch)\n",
    "            nlp.update(texts, annotations, sgd=optimizer, drop=0.2,\n",
    "                       losses=losses)\n",
    "\n",
    "      # Calling the evaluate() function and printing the scores\n",
    "        with textcat.model.use_params(optimizer.averages):\n",
    "            scores = evaluate(nlp.tokenizer, textcat, dev_texts, dev_cats)\n",
    "        print('{0:.3f}\\t{1:.3f}\\t{2:.3f}\\t{3:.3f}'  \n",
    "              .format(losses['textcat'], scores['textcat_p'],\n",
    "                      scores['textcat_r'], scores['textcat_f']))"
   ]
  },
  {
   "cell_type": "markdown",
   "metadata": {},
   "source": [
    "### Testing with a review "
   ]
  },
  {
   "cell_type": "code",
   "execution_count": 29,
   "metadata": {},
   "outputs": [
    {
     "data": {
      "text/plain": [
       "{'POSITIVE': 8.116952110448494e-10, 'NEGATIVE': 1.0}"
      ]
     },
     "execution_count": 29,
     "metadata": {},
     "output_type": "execute_result"
    }
   ],
   "source": [
    "test_text=\"This phone is terrible\"\n",
    "doc=nlp(test_text)\n",
    "doc.cats "
   ]
  },
  {
   "cell_type": "code",
   "execution_count": null,
   "metadata": {},
   "outputs": [],
   "source": []
  }
 ],
 "metadata": {
  "kernelspec": {
   "display_name": "Python 3",
   "language": "python",
   "name": "python3"
  },
  "language_info": {
   "codemirror_mode": {
    "name": "ipython",
    "version": 3
   },
   "file_extension": ".py",
   "mimetype": "text/x-python",
   "name": "python",
   "nbconvert_exporter": "python",
   "pygments_lexer": "ipython3",
   "version": "3.8.3"
  }
 },
 "nbformat": 4,
 "nbformat_minor": 4
}
